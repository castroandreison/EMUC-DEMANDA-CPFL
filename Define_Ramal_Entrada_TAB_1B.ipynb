{
 "cells": [
  {
   "cell_type": "markdown",
   "id": "9d7d4fae-c1ce-4cca-a381-15bfa0406935",
   "metadata": {},
   "source": [
    "## a) Demanda referente a iluminação e tomadas\n",
    "1) Instalação Residencial\n",
    "Carga instalada mínima, conforme a Tabela 2 – Número mínimo de tomadas em função da\n",
    "área construída e item 6.18.\n",
    " Fator de demanda, conforme a Tabela 3 – Fatores de demanda referentes a tomadas\n",
    "e iluminação residencial;\n",
    " Fator de potência igual a 1.\n",
    "2) Outros Tipos de Instalação\n",
    "Carga instalada de acordo com o declarado pelo interessado, devendo separar as cargas\n",
    "de tomadas e iluminação;\n",
    " Fator de demanda para tomadas e iluminação, conforme Tabela 18 – Carga mínima e\n",
    "fatores de demanda iluminação e tomadas de uso geral;\n",
    " Fator de potência para iluminação:\n",
    "o Projeto com iluminação incandescente ou com lâmpadas que não utilizam reator\n",
    "igual a 1;\n",
    "o Projeto com iluminação a lâmpada fluorescente, neon, vapor de sódio ou\n",
    "mercúrio, sem compensação do fator de potência igual a 0,5;\n",
    "o Projeto com iluminação a lâmpada fluorescente, neon, vapor de sódio ou\n",
    "mercúrio, com compensação do fator de potência igual a 0,95;\n",
    " Fator de potência para tomadas igual a 1."
   ]
  },
  {
   "cell_type": "code",
   "execution_count": 13,
   "id": "ece50ea1-fd9e-4d86-a993-1dfe38e41065",
   "metadata": {
    "jupyter": {
     "source_hidden": true
    }
   },
   "outputs": [],
   "source": [
    "import tkinter as tk\n",
    "from tkinter import ttk\n",
    "\n",
    "# Definição dos fatores de demanda conforme a tabela\n",
    "fatores_demanda = [\n",
    "    (\"0 < C < 1\", 0.86),\n",
    "    (\"1 < C < 2\", 0.75),\n",
    "    (\"2 < C < 3\", 0.66),\n",
    "    (\"3 < C < 4\", 0.59),\n",
    "    (\"4 < C < 5\", 0.52),\n",
    "    (\"5 < C < 6\", 0.45),\n",
    "    (\"6 < C < 7\", 0.40),\n",
    "    (\"7 < C < 8\", 0.35),\n",
    "    (\"8 < C < 9\", 0.31),\n",
    "    (\"9 < C < 10\", 0.27),\n",
    "    (\"C > 10\", 0.24)  # Para C > 10\n",
    "]\n",
    "\n",
    "def calcular_demanda():\n",
    "    try:\n",
    "        carga_instalada = float(entry_carga.get())\n",
    "        fator = None\n",
    "        faixa_utilizada = None\n",
    "\n",
    "        for faixa, fd in fatores_demanda:\n",
    "            limites = [float(x) for x in faixa.replace(\"C\", \"\").replace(\">\", \"\").replace(\"<\", \"\").split() if x.strip()]\n",
    "            \n",
    "            if len(limites) == 1:\n",
    "                if \">\" in faixa and carga_instalada > limites[0]:\n",
    "                    fator = fd\n",
    "                    faixa_utilizada = faixa\n",
    "                    break\n",
    "                elif \"<\" in faixa and carga_instalada < limites[0]:\n",
    "                    fator = fd\n",
    "                    faixa_utilizada = faixa\n",
    "                    break\n",
    "            elif len(limites) == 2 and limites[0] < carga_instalada <= limites[1]:\n",
    "                fator = fd\n",
    "                faixa_utilizada = faixa\n",
    "                break\n",
    "\n",
    "        if fator is None:  # Caso não encontre uma faixa, aplica o padrão\n",
    "            fator = 0.24\n",
    "            faixa_utilizada = \"C > 10\"\n",
    "\n",
    "        demanda = carga_instalada * fator\n",
    "        label_resultado.config(text=f\"Demanda Calculada: {demanda:.2f} kW\\nFator de Demanda Utilizado: {faixa_utilizada} ({fator})\")\n",
    "\n",
    "    except ValueError:\n",
    "        label_resultado.config(text=\"Insira um valor numérico válido.\")\n",
    "\n",
    "\n",
    "# Configuração da interface\n",
    "top = tk.Tk()\n",
    "top.title(\"Cálculo de Demanda Residencial\")\n",
    "top.geometry(\"400x200\")\n",
    "\n",
    "tk.Label(top, text=\"Carga Instalada (kW):\").pack()\n",
    "entry_carga = tk.Entry(top)\n",
    "entry_carga.pack()\n",
    "\n",
    "tk.Button(top, text=\"Calcular Demanda\", command=calcular_demanda).pack()\n",
    "\n",
    "label_resultado = tk.Label(top, text=\"Demanda Calculada: \")\n",
    "label_resultado.pack()\n",
    "\n",
    "top.mainloop()"
   ]
  },
  {
   "cell_type": "markdown",
   "id": "77663f1f-6a90-4f15-a656-8664928f4251",
   "metadata": {},
   "source": [
    "## b) Demanda referentes a chuveiros, torneiras, aquecedores de água de passagem e ferros elétricos:\n",
    "1) Instalação Residencial, Hotéis, Motéis, Hospitais, Casas Comerciais e Igrejas - Carga\n",
    "instalada conforme Tabela 18 – Carga mínima e fatores de demanda iluminação e tomadas\n",
    "de uso geral.\n",
    " Fator de demanda: conforme Tabela 4 – Fatores de demanda de chuveiros, torneiras,\n",
    "aquecedores de água de passagem e ferros elétricos;\n",
    " Fator de potência igual a 1.\n",
    "Nota: No caso de edificações contendo vestiários, deverá ser considerado fator de demanda\n",
    "de 100% para cargas de chuveiros, torneiras e aquecedores, instalados no mesmo. Para os\n",
    "aparelhos instalados internamente à edificação, considerar os fatores de demanda da Tabela\n",
    "4 – Fatores de demanda de chuveiros, torneiras, aquecedores de água de passagem e ferros\n",
    "elétricos.\n",
    "2) Outros Tipos de Instalação - Carga instalada conforme item Tabela 18 – Carga mínima e\n",
    "fatores de demanda iluminação e tomadas de uso geral;\n",
    " Fator de demanda igual a 1;\n",
    " Fator de potência igual a 1."
   ]
  },
  {
   "cell_type": "code",
   "execution_count": 17,
   "id": "2a82656c-1709-410c-91d9-b907ee12af48",
   "metadata": {
    "jupyter": {
     "source_hidden": true
    },
    "scrolled": true
   },
   "outputs": [
    {
     "data": {
      "text/plain": [
       "()"
      ]
     },
     "execution_count": 17,
     "metadata": {},
     "output_type": "execute_result"
    }
   ],
   "source": [
    "import tkinter as tk\n",
    "from tkinter import ttk\n",
    "\n",
    "# Tabela de fatores de demanda\n",
    "fatores_demanda = {\n",
    "    1: 1.00, 2: 1.00, 3: 0.84, 4: 0.76, 5: 0.70, 6: 0.65, 7: 0.60,\n",
    "    8: 0.57, 9: 0.54, 10: 0.52, 11: 0.49, 12: 0.48, 13: 0.46, 14: 0.45,\n",
    "    15: 0.44, 16: 0.43, 17: 0.42, 18: 0.41, 19: 0.40, 20: 0.40,\n",
    "    21: 0.39, 22: 0.39, 23: 0.39, 24: 0.38, 25: 0.38\n",
    "}\n",
    "\n",
    "def calcular_demanda():\n",
    "    try:\n",
    "        total_carga = 0\n",
    "        total_aparelhos = 0\n",
    "        \n",
    "        for item in lista_aparelhos.get_children():\n",
    "            valores = lista_aparelhos.item(item, 'values')\n",
    "            potencia = float(valores[1])\n",
    "            quantidade = int(valores[2])\n",
    "            total_carga += potencia * quantidade\n",
    "            total_aparelhos += quantidade\n",
    "        \n",
    "        fator = fatores_demanda.get(total_aparelhos, 0.38)  # Para acima de 25, usa 0.38\n",
    "        demanda = (total_carga * fator)/1000\n",
    "        \n",
    "        label_resultado.config(text=f\"Demanda Calculada: {demanda:.2f} kW\\nFator de Demanda Utilizado: {fator}\")\n",
    "    except ValueError:\n",
    "        label_resultado.config(text=\"Erro: Insira valores numéricos válidos.\")\n",
    "\n",
    "def adicionar_aparelho():\n",
    "    nome = entry_nome.get()\n",
    "    potencia = entry_potencia.get()\n",
    "    quantidade = entry_quantidade.get()\n",
    "    \n",
    "    if nome and potencia and quantidade:\n",
    "        try:\n",
    "            potencia = float(potencia)\n",
    "            quantidade = int(quantidade)\n",
    "            lista_aparelhos.insert(\"\", \"end\", values=(nome, potencia, quantidade))\n",
    "        except ValueError:\n",
    "            label_resultado.config(text=\"Erro: Insira valores numéricos válidos para potência e quantidade.\")\n",
    "    else:\n",
    "        label_resultado.config(text=\"Erro: Preencha todos os campos.\")\n",
    "\n",
    "# Configuração da interface\n",
    "top = tk.Tk()\n",
    "top.title(\"Cálculo de Demanda de Aparelhos chuveiros, torneiras, aquecedores de água de passagem e ferros elétricos\")\n",
    "top.geometry(\"500x400\")\n",
    "\n",
    "tk.Label(top, text=\"Nome do Aparelho:\").pack()\n",
    "entry_nome = tk.Entry(top)\n",
    "entry_nome.pack()\n",
    "\n",
    "tk.Label(top, text=\"Potência (W):\").pack()\n",
    "entry_potencia = tk.Entry(top)\n",
    "entry_potencia.pack()\n",
    "\n",
    "tk.Label(top, text=\"Quantidade:\").pack()\n",
    "entry_quantidade = tk.Entry(top)\n",
    "entry_quantidade.pack()\n",
    "\n",
    "tk.Button(top, text=\"Adicionar Aparelho\", command=adicionar_aparelho).pack()\n",
    "\n",
    "# Tabela de aparelhos\n",
    "colunas = (\"Nome\", \"Potência\", \"Quantidade\")\n",
    "lista_aparelhos = ttk.Treeview(top, columns=colunas, show=\"headings\")\n",
    "for col in colunas:\n",
    "    lista_aparelhos.heading(col, text=col)\n",
    "lista_aparelhos.pack()\n",
    "\n",
    "tk.Button(top, text=\"Calcular Demanda\", command=calcular_demanda).pack()\n",
    "\n",
    "label_resultado = tk.Label(top, text=\"Demanda Calculada:\")\n",
    "label_resultado.pack()\n",
    "\n",
    "# Iniciar loop da interface gráfica\n",
    "top.mainloop()\n",
    "()\r\n"
   ]
  },
  {
   "cell_type": "markdown",
   "id": "6c07a3fc-c467-4235-bb72-20c712df4eed",
   "metadata": {},
   "source": [
    "## c) Demanda referente a aquecedor central ou de acumulação (boiler):\n",
    "Carga instalada: considerar a potência, conforme catálogo do fabricante;\n",
    " Fator de demanda: conforme Tabela 5 – Fatores de demanda de aquecedor central ou\n",
    "de acumulação (boiler);\n",
    " Fator de potência igual a 1."
   ]
  },
  {
   "cell_type": "code",
   "execution_count": null,
   "id": "5e265cf6-4053-4496-be22-3a3a1f9c870f",
   "metadata": {},
   "outputs": [],
   "source": []
  },
  {
   "cell_type": "markdown",
   "id": "6e5f43a1-312c-47e8-adf8-d4d25904bc49",
   "metadata": {},
   "source": [
    "## d) Demanda de secadora de roupa, forno elétrico, máquina de lavar louça e forno de micro-ondas:\n",
    " Fator de demanda: conforme Tabela 6 – Fatores de demanda de secadora de roupa,\n",
    "forno elétrico, máquina de lavar louça e forno micro-ondas;\n",
    " Fator de potência igual a 1.\n"
   ]
  },
  {
   "cell_type": "code",
   "execution_count": null,
   "id": "7e98313a-9cd3-418b-b1f2-978d7e4babb4",
   "metadata": {},
   "outputs": [],
   "source": []
  },
  {
   "cell_type": "markdown",
   "id": "7f9296ac-99b0-4e9d-be00-2746b19b8407",
   "metadata": {},
   "source": [
    "## e) Demanda referente a fogões elétricos: Carga instalada: considerar a potência de placa do fabricante\n",
    " Fator de demanda: conforme Tabela 7 – Fatores de demanda de fogões elétricos;\r\n",
    " Fator de potência igual a 1."
   ]
  },
  {
   "cell_type": "code",
   "execution_count": null,
   "id": "09929baa-2bfa-4c12-8521-233b29de96a1",
   "metadata": {},
   "outputs": [],
   "source": []
  },
  {
   "cell_type": "markdown",
   "id": "037533a4-60f1-4b12-b0af-d9bdeeb4acc3",
   "metadata": {},
   "source": [
    "## f) Demanda referente a condicionador de ar tipo janela:\n",
    "Carga instalada: considerar a potência por aparelho, conforme Tabela 8 – Aparelho de ar\n",
    "condicionado tipo janela.\n",
    "Fator de demanda:\n",
    " Para uso residencial igual a 1;\n",
    " Para uso comercial, conforme Tabela 9 – Fatores de demanda aparelhos de ar\n",
    "condicionado tipo janela para uso comercial. "
   ]
  },
  {
   "cell_type": "code",
   "execution_count": null,
   "id": "2c9d7c00-9eab-4160-b1e3-3aa2d12c655f",
   "metadata": {},
   "outputs": [],
   "source": []
  },
  {
   "cell_type": "markdown",
   "id": "eaa989a2-73a5-4376-9b73-3fd4bafebeb4",
   "metadata": {},
   "source": [
    "## g) Demanda referente a motores e máquinas de solda a motor:\n",
    "Carga instalada: potência de placa do fabricante (cv ou HP) e conversão para kW ou kVA,\n",
    "conforme Tabela 14 – Motores Monofásicos e Tabela 15 – Motores Trifásicos 60 Hz.\n",
    " Fator de demanda, conforme Tabela 10 – Fatores de demanda de motores."
   ]
  },
  {
   "cell_type": "code",
   "execution_count": null,
   "id": "2f071f99-e151-4b76-873d-e3ba30a55050",
   "metadata": {},
   "outputs": [],
   "source": []
  },
  {
   "cell_type": "markdown",
   "id": "ca05966f-852b-47aa-802c-69c829417228",
   "metadata": {},
   "source": [
    "## h) Demanda Referente a Equipamentos Especiais\n",
    "Carga instalada: potência de placa do fabricante.\n",
    " Fator de demanda conforme Tabela 11 – Fatores de demanda de equipamentos\n",
    "especiais, a ser aplicada a cada tipo de aparelho;\n",
    " Fator de potência, considerar igual a 0,75.\n"
   ]
  },
  {
   "cell_type": "code",
   "execution_count": null,
   "id": "eb72d191-b104-4691-917d-d788e3f2b71e",
   "metadata": {},
   "outputs": [],
   "source": []
  },
  {
   "cell_type": "markdown",
   "id": "8263e569-28bd-489e-acdb-7cfb13c62d20",
   "metadata": {},
   "source": [
    "## i) Hidromassagem\n",
    "Carga instalada: conforme placa do fabricante.\n",
    " Fator de demanda: conforme Tabela 10 – Fatores de demanda de motores;\n",
    " Fator de potência igual a 1."
   ]
  },
  {
   "cell_type": "code",
   "execution_count": null,
   "id": "da69658f-9b3c-4adc-bf3d-71d9e2d53190",
   "metadata": {},
   "outputs": [],
   "source": []
  },
  {
   "cell_type": "code",
   "execution_count": null,
   "id": "a15253d4-d6e3-4594-9516-69156267506f",
   "metadata": {},
   "outputs": [],
   "source": []
  },
  {
   "cell_type": "markdown",
   "id": "bd28d197-9987-4e97-9bf5-6c2ece32b822",
   "metadata": {},
   "source": [
    "Defnição de cabo de ligação/ramal de entrada"
   ]
  },
  {
   "cell_type": "code",
   "execution_count": 2,
   "id": "8a95e361-5cd9-428d-a625-f26663869632",
   "metadata": {
    "jupyter": {
     "source_hidden": true
    }
   },
   "outputs": [],
   "source": [
    "import tkinter as tk\n",
    "from tkinter import ttk\n",
    "\n",
    "# Definição dos dados da tabela\n",
    "tabela = {\n",
    "    \"C ≤ 10\": {\"Demanda\": \"-\", \"Limitação motores (cv) FN\": 3, \"FF\": \"-\", \"FFFN\": \"-\", \"Ramal de Entrada (mm²)\": 6, \"Disjuntor (A)\": 32, \"Eletroduto (mm)\": \"32 (1)\", \"Aterramento Condutor (mm²)\": 6, \"Poste (daN)\": 90, \"Ramal de Ligação\": \"10 mm² Duplex\"},\n",
    "    \"C ≤ 15\": {\"Demanda\": \"-\", \"Limitação motores (cv) FN\": 5, \"FF\": \"-\", \"FFFN\": \"-\", \"Ramal de Entrada (mm²)\": 16, \"Disjuntor (A)\": 63, \"Eletroduto (mm)\": \"40 (1 ¼)\", \"Aterramento Condutor (mm²)\": 10, \"Poste (daN)\": 200, \"Ramal de Ligação\": \"16 mm² Duplex\"},\n",
    "    \"15<C≤25\": {\"Demanda\": \"-\", \"Limitação motores (cv) FN\": 5, \"FF\": 10, \"FFFN\": \"-\", \"Ramal de Entrada (mm²)\": 16, \"Disjuntor (A)\": 63, \"Eletroduto (mm)\": \"50 (1 ½)\", \"Aterramento Condutor (mm²)\": 16, \"Poste (daN)\": 200, \"Ramal de Ligação\": \"16 mm² Triplex\"},\n",
    "    \"25<C≤75\": {\n",
    "        \"D≤26\": {\"Limitação motores (cv) FN\": 3, \"FF\": 5, \"FFFN\": 20, \"Ramal de Entrada (mm²)\": 10, \"Disjuntor (A)\": 40, \"Eletroduto (mm)\": \"32 (1)\", \"Aterramento Condutor (mm²)\": 6, \"Poste (daN)\": 90, \"Ramal de Ligação\": \"10 mm² Quadruplex\"},\n",
    "        \"26<D≤40\": {\"Limitação motores (cv) FN\": 3, \"FF\": 5, \"FFFN\": 30, \"Ramal de Entrada (mm²)\": 16, \"Disjuntor (A)\": 63, \"Eletroduto (mm)\": \"40 (1 ¼)\", \"Aterramento Condutor (mm²)\": 10, \"Poste (daN)\": 200, \"Ramal de Ligação\": \"16 mm² Quadruplex\"},\n",
    "        \"40<D≤46\": {\"Limitação motores (cv) FN\": 5, \"FF\": 10, \"FFFN\": 30, \"Ramal de Entrada (mm²)\": 25, \"Disjuntor (A)\": 80, \"Eletroduto (mm)\": \"50 (1 ½)\", \"Aterramento Condutor (mm²)\": 16, \"Poste (daN)\": 200, \"Ramal de Ligação\": \"25 mm² Quadruplex\"},\n",
    "        \"46<D≤66\": {\"Limitação motores (cv) FN\": 7.5, \"FF\": 12, \"FFFN\": 40, \"Ramal de Entrada (mm²)\": 35, \"Disjuntor (A)\": 100, \"Eletroduto (mm)\": \"50 (1 ½)\", \"Aterramento Condutor (mm²)\": 16, \"Poste (daN)\": 200, \"Ramal de Ligação\": \"35 mm² Quadruplex\"},\n",
    "        \"66<D≤82\": {\"Limitação motores (cv) FN\": 7.5, \"FF\": 12, \"FFFN\": 50, \"Ramal de Entrada (mm²)\": 50, \"Disjuntor (A)\": 125, \"Eletroduto (mm)\": \"50 (1 ½)\", \"Aterramento Condutor (mm²)\": 16, \"Poste (daN)\": 200, \"Ramal de Ligação\": \"35 mm² Quadruplex\"},\n",
    "    }\n",
    "}\n",
    "\n",
    "def atualizar_dados(*args):\n",
    "    carga = carga_var.get()\n",
    "    demanda = demanda_var.get()\n",
    "    \n",
    "    if carga in tabela:\n",
    "        if isinstance(tabela[carga], dict) and \"Demanda\" in tabela[carga]:\n",
    "            dados = tabela[carga]\n",
    "        elif demanda and demanda in tabela[carga]:\n",
    "            dados = tabela[carga][demanda]\n",
    "        else:\n",
    "            return\n",
    "        \n",
    "        for chave, valor in dados.items():\n",
    "            labels[chave].config(text=f\"{chave}: {valor}\")\n",
    "    else:\n",
    "        for chave in labels:\n",
    "            labels[chave].config(text=f\"{chave}:\")\n",
    "\n",
    "# Configuração da interface\n",
    "top = tk.Tk()\n",
    "top.title(\"Dimensionamento de Ramal de Entrada\")\n",
    "top.geometry(\"500x500\")\n",
    "\n",
    "tk.Label(top, text=\"Selecione a Carga Instalada: \").pack()\n",
    "carga_var = tk.StringVar()\n",
    "carga_var.trace(\"w\", atualizar_dados)\n",
    "combo_carga = ttk.Combobox(top, textvariable=carga_var, values=list(tabela.keys()))\n",
    "combo_carga.pack()\n",
    "\n",
    "tk.Label(top, text=\"Selecione a Demanda (se aplicável):\").pack()\n",
    "demanda_var = tk.StringVar()\n",
    "demanda_var.trace(\"w\", atualizar_dados)\n",
    "combo_demanda = ttk.Combobox(top, textvariable=demanda_var, values=[\"D≤26\", \"26<D≤40\", \"40<D≤46\", \"46<D≤66\", \"66<D≤82\"])\n",
    "combo_demanda.pack()\n",
    "\n",
    "frame = tk.Frame(top)\n",
    "frame.pack(pady=10)\n",
    "\n",
    "labels = {}\n",
    "for chave in [\"Demanda\", \"Limitação motores (cv) FN\", \"FF\", \"FFFN\", \"Ramal de Entrada (mm²)\", \"Disjuntor (A)\", \"Eletroduto (mm)\", \"Aterramento Condutor (mm²)\", \"Poste (daN)\", \"Ramal de Ligação\"]:\n",
    "    lbl = tk.Label(frame, text=f\"{chave}:\")\n",
    "    lbl.pack(anchor=\"w\")\n",
    "    labels[chave] = lbl\n",
    "\n",
    "top.mainloop()\n"
   ]
  },
  {
   "cell_type": "code",
   "execution_count": null,
   "id": "a1bda5f2-f7d9-45d3-9fe6-30543487797a",
   "metadata": {},
   "outputs": [],
   "source": []
  }
 ],
 "metadata": {
  "kernelspec": {
   "display_name": "Python 3 (ipykernel)",
   "language": "python",
   "name": "python3"
  },
  "language_info": {
   "codemirror_mode": {
    "name": "ipython",
    "version": 3
   },
   "file_extension": ".py",
   "mimetype": "text/x-python",
   "name": "python",
   "nbconvert_exporter": "python",
   "pygments_lexer": "ipython3",
   "version": "3.12.4"
  }
 },
 "nbformat": 4,
 "nbformat_minor": 5
}
